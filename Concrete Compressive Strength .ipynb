{
 "cells": [
  {
   "cell_type": "code",
   "execution_count": 1,
   "id": "0f9b6b76",
   "metadata": {},
   "outputs": [],
   "source": [
    "# importing the necessary libraries\n",
    "import numpy as np\n",
    "import pandas as pd\n",
    "import matplotlib.pyplot as plt\n",
    "import seaborn as sns\n",
    "%matplotlib inline"
   ]
  },
  {
   "cell_type": "code",
   "execution_count": 2,
   "id": "5cc5cc4a",
   "metadata": {},
   "outputs": [],
   "source": [
    "# lets import the dataset\n",
    "dataset = pd.read_csv('concrete_data.csv')\n"
   ]
  },
  {
   "cell_type": "code",
   "execution_count": 3,
   "id": "fb91d8c6",
   "metadata": {},
   "outputs": [
    {
     "data": {
      "text/html": [
       "<div>\n",
       "<style scoped>\n",
       "    .dataframe tbody tr th:only-of-type {\n",
       "        vertical-align: middle;\n",
       "    }\n",
       "\n",
       "    .dataframe tbody tr th {\n",
       "        vertical-align: top;\n",
       "    }\n",
       "\n",
       "    .dataframe thead th {\n",
       "        text-align: right;\n",
       "    }\n",
       "</style>\n",
       "<table border=\"1\" class=\"dataframe\">\n",
       "  <thead>\n",
       "    <tr style=\"text-align: right;\">\n",
       "      <th></th>\n",
       "      <th>cement</th>\n",
       "      <th>blast_furnace_slag</th>\n",
       "      <th>fly_ash</th>\n",
       "      <th>water</th>\n",
       "      <th>superplasticizer</th>\n",
       "      <th>coarse_aggregate</th>\n",
       "      <th>fine_aggregate</th>\n",
       "      <th>age</th>\n",
       "      <th>concrete_compressive_strength</th>\n",
       "    </tr>\n",
       "  </thead>\n",
       "  <tbody>\n",
       "    <tr>\n",
       "      <th>0</th>\n",
       "      <td>540.0</td>\n",
       "      <td>0.0</td>\n",
       "      <td>0.0</td>\n",
       "      <td>162.0</td>\n",
       "      <td>2.5</td>\n",
       "      <td>1040.0</td>\n",
       "      <td>676.0</td>\n",
       "      <td>28</td>\n",
       "      <td>79.99</td>\n",
       "    </tr>\n",
       "    <tr>\n",
       "      <th>1</th>\n",
       "      <td>540.0</td>\n",
       "      <td>0.0</td>\n",
       "      <td>0.0</td>\n",
       "      <td>162.0</td>\n",
       "      <td>2.5</td>\n",
       "      <td>1055.0</td>\n",
       "      <td>676.0</td>\n",
       "      <td>28</td>\n",
       "      <td>61.89</td>\n",
       "    </tr>\n",
       "    <tr>\n",
       "      <th>2</th>\n",
       "      <td>332.5</td>\n",
       "      <td>142.5</td>\n",
       "      <td>0.0</td>\n",
       "      <td>228.0</td>\n",
       "      <td>0.0</td>\n",
       "      <td>932.0</td>\n",
       "      <td>594.0</td>\n",
       "      <td>270</td>\n",
       "      <td>40.27</td>\n",
       "    </tr>\n",
       "    <tr>\n",
       "      <th>3</th>\n",
       "      <td>332.5</td>\n",
       "      <td>142.5</td>\n",
       "      <td>0.0</td>\n",
       "      <td>228.0</td>\n",
       "      <td>0.0</td>\n",
       "      <td>932.0</td>\n",
       "      <td>594.0</td>\n",
       "      <td>365</td>\n",
       "      <td>41.05</td>\n",
       "    </tr>\n",
       "    <tr>\n",
       "      <th>4</th>\n",
       "      <td>198.6</td>\n",
       "      <td>132.4</td>\n",
       "      <td>0.0</td>\n",
       "      <td>192.0</td>\n",
       "      <td>0.0</td>\n",
       "      <td>978.4</td>\n",
       "      <td>825.5</td>\n",
       "      <td>360</td>\n",
       "      <td>44.30</td>\n",
       "    </tr>\n",
       "  </tbody>\n",
       "</table>\n",
       "</div>"
      ],
      "text/plain": [
       "   cement  blast_furnace_slag  fly_ash  water  superplasticizer   \n",
       "0   540.0                 0.0      0.0  162.0               2.5  \\\n",
       "1   540.0                 0.0      0.0  162.0               2.5   \n",
       "2   332.5               142.5      0.0  228.0               0.0   \n",
       "3   332.5               142.5      0.0  228.0               0.0   \n",
       "4   198.6               132.4      0.0  192.0               0.0   \n",
       "\n",
       "   coarse_aggregate  fine_aggregate   age  concrete_compressive_strength  \n",
       "0            1040.0            676.0   28                          79.99  \n",
       "1            1055.0            676.0   28                          61.89  \n",
       "2             932.0            594.0  270                          40.27  \n",
       "3             932.0            594.0  365                          41.05  \n",
       "4             978.4            825.5  360                          44.30  "
      ]
     },
     "execution_count": 3,
     "metadata": {},
     "output_type": "execute_result"
    }
   ],
   "source": [
    "dataset.head()\n"
   ]
  },
  {
   "cell_type": "code",
   "execution_count": 4,
   "id": "ea812dea",
   "metadata": {},
   "outputs": [
    {
     "data": {
      "text/html": [
       "<div>\n",
       "<style scoped>\n",
       "    .dataframe tbody tr th:only-of-type {\n",
       "        vertical-align: middle;\n",
       "    }\n",
       "\n",
       "    .dataframe tbody tr th {\n",
       "        vertical-align: top;\n",
       "    }\n",
       "\n",
       "    .dataframe thead th {\n",
       "        text-align: right;\n",
       "    }\n",
       "</style>\n",
       "<table border=\"1\" class=\"dataframe\">\n",
       "  <thead>\n",
       "    <tr style=\"text-align: right;\">\n",
       "      <th></th>\n",
       "      <th>cement</th>\n",
       "      <th>blast_furnace_slag</th>\n",
       "      <th>fly_ash</th>\n",
       "      <th>water</th>\n",
       "      <th>superplasticizer</th>\n",
       "      <th>coarse_aggregate</th>\n",
       "      <th>fine_aggregate</th>\n",
       "      <th>age</th>\n",
       "      <th>concrete_compressive_strength</th>\n",
       "    </tr>\n",
       "  </thead>\n",
       "  <tbody>\n",
       "    <tr>\n",
       "      <th>count</th>\n",
       "      <td>1030.000000</td>\n",
       "      <td>1030.000000</td>\n",
       "      <td>1030.000000</td>\n",
       "      <td>1030.000000</td>\n",
       "      <td>1030.000000</td>\n",
       "      <td>1030.000000</td>\n",
       "      <td>1030.000000</td>\n",
       "      <td>1030.000000</td>\n",
       "      <td>1030.000000</td>\n",
       "    </tr>\n",
       "    <tr>\n",
       "      <th>mean</th>\n",
       "      <td>281.167864</td>\n",
       "      <td>73.895825</td>\n",
       "      <td>54.188350</td>\n",
       "      <td>181.567282</td>\n",
       "      <td>6.204660</td>\n",
       "      <td>972.918932</td>\n",
       "      <td>773.580485</td>\n",
       "      <td>45.662136</td>\n",
       "      <td>35.817961</td>\n",
       "    </tr>\n",
       "    <tr>\n",
       "      <th>std</th>\n",
       "      <td>104.506364</td>\n",
       "      <td>86.279342</td>\n",
       "      <td>63.997004</td>\n",
       "      <td>21.354219</td>\n",
       "      <td>5.973841</td>\n",
       "      <td>77.753954</td>\n",
       "      <td>80.175980</td>\n",
       "      <td>63.169912</td>\n",
       "      <td>16.705742</td>\n",
       "    </tr>\n",
       "    <tr>\n",
       "      <th>min</th>\n",
       "      <td>102.000000</td>\n",
       "      <td>0.000000</td>\n",
       "      <td>0.000000</td>\n",
       "      <td>121.800000</td>\n",
       "      <td>0.000000</td>\n",
       "      <td>801.000000</td>\n",
       "      <td>594.000000</td>\n",
       "      <td>1.000000</td>\n",
       "      <td>2.330000</td>\n",
       "    </tr>\n",
       "    <tr>\n",
       "      <th>25%</th>\n",
       "      <td>192.375000</td>\n",
       "      <td>0.000000</td>\n",
       "      <td>0.000000</td>\n",
       "      <td>164.900000</td>\n",
       "      <td>0.000000</td>\n",
       "      <td>932.000000</td>\n",
       "      <td>730.950000</td>\n",
       "      <td>7.000000</td>\n",
       "      <td>23.710000</td>\n",
       "    </tr>\n",
       "    <tr>\n",
       "      <th>50%</th>\n",
       "      <td>272.900000</td>\n",
       "      <td>22.000000</td>\n",
       "      <td>0.000000</td>\n",
       "      <td>185.000000</td>\n",
       "      <td>6.400000</td>\n",
       "      <td>968.000000</td>\n",
       "      <td>779.500000</td>\n",
       "      <td>28.000000</td>\n",
       "      <td>34.445000</td>\n",
       "    </tr>\n",
       "    <tr>\n",
       "      <th>75%</th>\n",
       "      <td>350.000000</td>\n",
       "      <td>142.950000</td>\n",
       "      <td>118.300000</td>\n",
       "      <td>192.000000</td>\n",
       "      <td>10.200000</td>\n",
       "      <td>1029.400000</td>\n",
       "      <td>824.000000</td>\n",
       "      <td>56.000000</td>\n",
       "      <td>46.135000</td>\n",
       "    </tr>\n",
       "    <tr>\n",
       "      <th>max</th>\n",
       "      <td>540.000000</td>\n",
       "      <td>359.400000</td>\n",
       "      <td>200.100000</td>\n",
       "      <td>247.000000</td>\n",
       "      <td>32.200000</td>\n",
       "      <td>1145.000000</td>\n",
       "      <td>992.600000</td>\n",
       "      <td>365.000000</td>\n",
       "      <td>82.600000</td>\n",
       "    </tr>\n",
       "  </tbody>\n",
       "</table>\n",
       "</div>"
      ],
      "text/plain": [
       "            cement  blast_furnace_slag      fly_ash        water   \n",
       "count  1030.000000         1030.000000  1030.000000  1030.000000  \\\n",
       "mean    281.167864           73.895825    54.188350   181.567282   \n",
       "std     104.506364           86.279342    63.997004    21.354219   \n",
       "min     102.000000            0.000000     0.000000   121.800000   \n",
       "25%     192.375000            0.000000     0.000000   164.900000   \n",
       "50%     272.900000           22.000000     0.000000   185.000000   \n",
       "75%     350.000000          142.950000   118.300000   192.000000   \n",
       "max     540.000000          359.400000   200.100000   247.000000   \n",
       "\n",
       "       superplasticizer  coarse_aggregate  fine_aggregate           age   \n",
       "count       1030.000000       1030.000000      1030.000000  1030.000000  \\\n",
       "mean           6.204660        972.918932       773.580485    45.662136   \n",
       "std            5.973841         77.753954        80.175980    63.169912   \n",
       "min            0.000000        801.000000       594.000000     1.000000   \n",
       "25%            0.000000        932.000000       730.950000     7.000000   \n",
       "50%            6.400000        968.000000       779.500000    28.000000   \n",
       "75%           10.200000       1029.400000       824.000000    56.000000   \n",
       "max           32.200000       1145.000000       992.600000   365.000000   \n",
       "\n",
       "       concrete_compressive_strength  \n",
       "count                    1030.000000  \n",
       "mean                       35.817961  \n",
       "std                        16.705742  \n",
       "min                         2.330000  \n",
       "25%                        23.710000  \n",
       "50%                        34.445000  \n",
       "75%                        46.135000  \n",
       "max                        82.600000  "
      ]
     },
     "execution_count": 4,
     "metadata": {},
     "output_type": "execute_result"
    }
   ],
   "source": [
    "dataset.describe() #describe numerical dataset"
   ]
  },
  {
   "cell_type": "code",
   "execution_count": 5,
   "id": "3b6a03d9",
   "metadata": {},
   "outputs": [
    {
     "data": {
      "text/plain": [
       "(1030, 9)"
      ]
     },
     "execution_count": 5,
     "metadata": {},
     "output_type": "execute_result"
    }
   ],
   "source": [
    "# shape of the dataset\n",
    "dataset.shape"
   ]
  },
  {
   "cell_type": "code",
   "execution_count": 6,
   "id": "981884a7",
   "metadata": {},
   "outputs": [
    {
     "data": {
      "text/plain": [
       "cement                           0\n",
       "blast_furnace_slag               0\n",
       "fly_ash                          0\n",
       "water                            0\n",
       "superplasticizer                 0\n",
       "coarse_aggregate                 0\n",
       "fine_aggregate                   0\n",
       "age                              0\n",
       "concrete_compressive_strength    0\n",
       "dtype: int64"
      ]
     },
     "execution_count": 6,
     "metadata": {},
     "output_type": "execute_result"
    }
   ],
   "source": [
    "# lets check the missing values\n",
    "dataset.isnull().sum()"
   ]
  },
  {
   "cell_type": "code",
   "execution_count": 7,
   "id": "a30534e8",
   "metadata": {},
   "outputs": [
    {
     "name": "stdout",
     "output_type": "stream",
     "text": [
      "<class 'pandas.core.frame.DataFrame'>\n",
      "RangeIndex: 1030 entries, 0 to 1029\n",
      "Data columns (total 9 columns):\n",
      " #   Column                         Non-Null Count  Dtype  \n",
      "---  ------                         --------------  -----  \n",
      " 0   cement                         1030 non-null   float64\n",
      " 1   blast_furnace_slag             1030 non-null   float64\n",
      " 2   fly_ash                        1030 non-null   float64\n",
      " 3   water                          1030 non-null   float64\n",
      " 4   superplasticizer               1030 non-null   float64\n",
      " 5   coarse_aggregate               1030 non-null   float64\n",
      " 6   fine_aggregate                 1030 non-null   float64\n",
      " 7   age                            1030 non-null   int64  \n",
      " 8   concrete_compressive_strength  1030 non-null   float64\n",
      "dtypes: float64(8), int64(1)\n",
      "memory usage: 72.6 KB\n"
     ]
    }
   ],
   "source": [
    "# lets work on Numerical values\n",
    "dataset.info()\n"
   ]
  },
  {
   "cell_type": "code",
   "execution_count": 8,
   "id": "2699bb89",
   "metadata": {},
   "outputs": [
    {
     "name": "stdout",
     "output_type": "stream",
     "text": [
      "cement : 278\n",
      "blast_furnace_slag : 185\n",
      "fly_ash : 156\n",
      "water : 195\n",
      "superplasticizer : 111\n",
      "coarse_aggregate : 284\n",
      "fine_aggregate  : 302\n",
      "age : 14\n",
      "concrete_compressive_strength : 845\n"
     ]
    }
   ],
   "source": [
    "# lets check how many unique values each features have in it\n",
    "for feature in dataset.columns:\n",
    " print(feature,':',len(dataset[feature].unique()))"
   ]
  },
  {
   "cell_type": "code",
   "execution_count": 9,
   "id": "e43305a7",
   "metadata": {},
   "outputs": [],
   "source": [
    "# so lets create list of discrete feature and the plot some graphs\n",
    "discrete_features = [feature for feature in dataset.columns if feature == 'age']"
   ]
  },
  {
   "cell_type": "code",
   "execution_count": 10,
   "id": "e8189d49",
   "metadata": {},
   "outputs": [
    {
     "data": {
      "text/plain": [
       "['age']"
      ]
     },
     "execution_count": 10,
     "metadata": {},
     "output_type": "execute_result"
    }
   ],
   "source": [
    "discrete_features"
   ]
  },
  {
   "cell_type": "code",
   "execution_count": 11,
   "id": "55da4226",
   "metadata": {},
   "outputs": [
    {
     "data": {
      "image/png": "[encoded data removed]",
      "text/plain": [
       "<Figure size 640x480 with 1 Axes>"
      ]
     },
     "metadata": {},
     "output_type": "display_data"
    }
   ],
   "source": [
    "# lets find realtionship between discrete feature and concrete_compressive_strength\n",
    "data = dataset.copy()\n",
    "for feature in discrete_features:\n",
    " data.groupby(feature)['concrete_compressive_strength'].median().plot.bar()\n",
    " plt.xlabel(feature)\n",
    " plt.ylabel('concrete_compressive_strength')\n",
    " plt.title(feature)\n",
    " plt.show()"
   ]
  },
  {
   "cell_type": "code",
   "execution_count": 12,
   "id": "3b3696b1",
   "metadata": {},
   "outputs": [],
   "source": [
    "# now lets create the list of continuous variables\n",
    "continuous_features = [feature for feature in dataset.columns if feature not in discrete_features]"
   ]
  },
  {
   "cell_type": "code",
   "execution_count": 13,
   "id": "f354e6b5",
   "metadata": {},
   "outputs": [
    {
     "data": {
      "text/plain": [
       "['cement',\n",
       " 'blast_furnace_slag',\n",
       " 'fly_ash',\n",
       " 'water',\n",
       " 'superplasticizer',\n",
       " 'coarse_aggregate',\n",
       " 'fine_aggregate ',\n",
       " 'concrete_compressive_strength']"
      ]
     },
     "execution_count": 13,
     "metadata": {},
     "output_type": "execute_result"
    }
   ],
   "source": [
    "continuous_features"
   ]
  },
  {
   "cell_type": "code",
   "execution_count": 14,
   "id": "548aaed1",
   "metadata": {},
   "outputs": [
    {
     "data": {
      "image/png": "[encoded data removed]",
      "text/plain": [
       "<Figure size 640x480 with 1 Axes>"
      ]
     },
     "metadata": {},
     "output_type": "display_data"
    },
    {
     "data": {
      "image/png": "[encoded data removed]",
      "text/plain": [
       "<Figure size 640x480 with 1 Axes>"
      ]
     },
     "metadata": {},
     "output_type": "display_data"
    },
    {
     "data": {
      "image/png": "[encoded data removed]",
      "text/plain": [
       "<Figure size 640x480 with 1 Axes>"
      ]
     },
     "metadata": {},
     "output_type": "display_data"
    },
    {
     "data": {
      "image/png": "[encoded data removed]",
      "text/plain": [
       "<Figure size 640x480 with 1 Axes>"
      ]
     },
     "metadata": {},
     "output_type": "display_data"
    },
    {
     "data": {
      "image/png": "[encoded data removed]",
      "text/plain": [
       "<Figure size 640x480 with 1 Axes>"
      ]
     },
     "metadata": {},
     "output_type": "display_data"
    },
    {
     "data": {
      "image/png": "[encoded data removed]",
      "text/plain": [
       "<Figure size 640x480 with 1 Axes>"
      ]
     },
     "metadata": {},
     "output_type": "display_data"
    },
    {
     "data": {
      "image/png": "[encoded data removed]",
      "text/plain": [
       "<Figure size 640x480 with 1 Axes>"
      ]
     },
     "metadata": {},
     "output_type": "display_data"
    },
    {
     "data": {
      "image/png": "[encoded data removed]",
      "text/plain": [
       "<Figure size 640x480 with 1 Axes>"
      ]
     },
     "metadata": {},
     "output_type": "display_data"
    }
   ],
   "source": [
    "# lets find realtionship between continuous feature and concrete_compressive_strength\n",
    "data = dataset.copy()\n",
    "for feature in continuous_features:\n",
    " data.groupby(feature)['concrete_compressive_strength'].median().plot.hist()\n",
    " plt.xlabel(feature)\n",
    " plt.ylabel('concrete_compressive_strength')\n",
    " plt.title(feature)\n",
    " plt.show()"
   ]
  },
  {
   "cell_type": "code",
   "execution_count": 15,
   "id": "daeff3c2",
   "metadata": {},
   "outputs": [],
   "source": [
    "X = dataset.iloc[:,0:8]\n",
    "y = dataset.iloc[:,-1]"
   ]
  },
  {
   "cell_type": "code",
   "execution_count": 16,
   "id": "9361319e",
   "metadata": {},
   "outputs": [
    {
     "data": {
      "text/html": [
       "<div>\n",
       "<style scoped>\n",
       "    .dataframe tbody tr th:only-of-type {\n",
       "        vertical-align: middle;\n",
       "    }\n",
       "\n",
       "    .dataframe tbody tr th {\n",
       "        vertical-align: top;\n",
       "    }\n",
       "\n",
       "    .dataframe thead th {\n",
       "        text-align: right;\n",
       "    }\n",
       "</style>\n",
       "<table border=\"1\" class=\"dataframe\">\n",
       "  <thead>\n",
       "    <tr style=\"text-align: right;\">\n",
       "      <th></th>\n",
       "      <th>cement</th>\n",
       "      <th>blast_furnace_slag</th>\n",
       "      <th>fly_ash</th>\n",
       "      <th>water</th>\n",
       "      <th>superplasticizer</th>\n",
       "      <th>coarse_aggregate</th>\n",
       "      <th>fine_aggregate</th>\n",
       "      <th>age</th>\n",
       "    </tr>\n",
       "  </thead>\n",
       "  <tbody>\n",
       "    <tr>\n",
       "      <th>0</th>\n",
       "      <td>540.0</td>\n",
       "      <td>0.0</td>\n",
       "      <td>0.0</td>\n",
       "      <td>162.0</td>\n",
       "      <td>2.5</td>\n",
       "      <td>1040.0</td>\n",
       "      <td>676.0</td>\n",
       "      <td>28</td>\n",
       "    </tr>\n",
       "    <tr>\n",
       "      <th>1</th>\n",
       "      <td>540.0</td>\n",
       "      <td>0.0</td>\n",
       "      <td>0.0</td>\n",
       "      <td>162.0</td>\n",
       "      <td>2.5</td>\n",
       "      <td>1055.0</td>\n",
       "      <td>676.0</td>\n",
       "      <td>28</td>\n",
       "    </tr>\n",
       "    <tr>\n",
       "      <th>2</th>\n",
       "      <td>332.5</td>\n",
       "      <td>142.5</td>\n",
       "      <td>0.0</td>\n",
       "      <td>228.0</td>\n",
       "      <td>0.0</td>\n",
       "      <td>932.0</td>\n",
       "      <td>594.0</td>\n",
       "      <td>270</td>\n",
       "    </tr>\n",
       "    <tr>\n",
       "      <th>3</th>\n",
       "      <td>332.5</td>\n",
       "      <td>142.5</td>\n",
       "      <td>0.0</td>\n",
       "      <td>228.0</td>\n",
       "      <td>0.0</td>\n",
       "      <td>932.0</td>\n",
       "      <td>594.0</td>\n",
       "      <td>365</td>\n",
       "    </tr>\n",
       "    <tr>\n",
       "      <th>4</th>\n",
       "      <td>198.6</td>\n",
       "      <td>132.4</td>\n",
       "      <td>0.0</td>\n",
       "      <td>192.0</td>\n",
       "      <td>0.0</td>\n",
       "      <td>978.4</td>\n",
       "      <td>825.5</td>\n",
       "      <td>360</td>\n",
       "    </tr>\n",
       "  </tbody>\n",
       "</table>\n",
       "</div>"
      ],
      "text/plain": [
       "   cement  blast_furnace_slag  fly_ash  water  superplasticizer   \n",
       "0   540.0                 0.0      0.0  162.0               2.5  \\\n",
       "1   540.0                 0.0      0.0  162.0               2.5   \n",
       "2   332.5               142.5      0.0  228.0               0.0   \n",
       "3   332.5               142.5      0.0  228.0               0.0   \n",
       "4   198.6               132.4      0.0  192.0               0.0   \n",
       "\n",
       "   coarse_aggregate  fine_aggregate   age  \n",
       "0            1040.0            676.0   28  \n",
       "1            1055.0            676.0   28  \n",
       "2             932.0            594.0  270  \n",
       "3             932.0            594.0  365  \n",
       "4             978.4            825.5  360  "
      ]
     },
     "execution_count": 16,
     "metadata": {},
     "output_type": "execute_result"
    }
   ],
   "source": [
    "X.head()"
   ]
  },
  {
   "cell_type": "code",
   "execution_count": 17,
   "id": "e04ca74f",
   "metadata": {},
   "outputs": [
    {
     "data": {
      "text/plain": [
       "0    79.99\n",
       "1    61.89\n",
       "2    40.27\n",
       "3    41.05\n",
       "4    44.30\n",
       "Name: concrete_compressive_strength, dtype: float64"
      ]
     },
     "execution_count": 17,
     "metadata": {},
     "output_type": "execute_result"
    }
   ],
   "source": [
    "y.head()"
   ]
  },
  {
   "cell_type": "code",
   "execution_count": 18,
   "id": "5f1638b7",
   "metadata": {},
   "outputs": [],
   "source": [
    "from sklearn.model_selection import train_test_split"
   ]
  },
  {
   "cell_type": "code",
   "execution_count": 19,
   "id": "ab349c88",
   "metadata": {},
   "outputs": [],
   "source": [
    "X_train,X_test,y_train,y_test = train_test_split(X,y,test_size = 0.20)"
   ]
  },
  {
   "cell_type": "code",
   "execution_count": 20,
   "id": "44efbbf4",
   "metadata": {},
   "outputs": [
    {
     "data": {
      "text/html": [
       "<div>\n",
       "<style scoped>\n",
       "    .dataframe tbody tr th:only-of-type {\n",
       "        vertical-align: middle;\n",
       "    }\n",
       "\n",
       "    .dataframe tbody tr th {\n",
       "        vertical-align: top;\n",
       "    }\n",
       "\n",
       "    .dataframe thead th {\n",
       "        text-align: right;\n",
       "    }\n",
       "</style>\n",
       "<table border=\"1\" class=\"dataframe\">\n",
       "  <thead>\n",
       "    <tr style=\"text-align: right;\">\n",
       "      <th></th>\n",
       "      <th>cement</th>\n",
       "      <th>blast_furnace_slag</th>\n",
       "      <th>fly_ash</th>\n",
       "      <th>water</th>\n",
       "      <th>superplasticizer</th>\n",
       "      <th>coarse_aggregate</th>\n",
       "      <th>fine_aggregate</th>\n",
       "      <th>age</th>\n",
       "    </tr>\n",
       "  </thead>\n",
       "  <tbody>\n",
       "    <tr>\n",
       "      <th>76</th>\n",
       "      <td>469.0</td>\n",
       "      <td>117.2</td>\n",
       "      <td>0.0</td>\n",
       "      <td>137.8</td>\n",
       "      <td>32.2</td>\n",
       "      <td>852.1</td>\n",
       "      <td>840.5</td>\n",
       "      <td>3</td>\n",
       "    </tr>\n",
       "    <tr>\n",
       "      <th>246</th>\n",
       "      <td>238.1</td>\n",
       "      <td>0.0</td>\n",
       "      <td>94.1</td>\n",
       "      <td>186.7</td>\n",
       "      <td>7.0</td>\n",
       "      <td>949.9</td>\n",
       "      <td>847.0</td>\n",
       "      <td>28</td>\n",
       "    </tr>\n",
       "    <tr>\n",
       "      <th>277</th>\n",
       "      <td>251.4</td>\n",
       "      <td>0.0</td>\n",
       "      <td>118.3</td>\n",
       "      <td>188.5</td>\n",
       "      <td>5.8</td>\n",
       "      <td>1028.4</td>\n",
       "      <td>757.7</td>\n",
       "      <td>56</td>\n",
       "    </tr>\n",
       "    <tr>\n",
       "      <th>887</th>\n",
       "      <td>326.0</td>\n",
       "      <td>0.0</td>\n",
       "      <td>138.0</td>\n",
       "      <td>199.0</td>\n",
       "      <td>11.0</td>\n",
       "      <td>801.0</td>\n",
       "      <td>792.0</td>\n",
       "      <td>28</td>\n",
       "    </tr>\n",
       "    <tr>\n",
       "      <th>208</th>\n",
       "      <td>212.1</td>\n",
       "      <td>0.0</td>\n",
       "      <td>121.6</td>\n",
       "      <td>180.3</td>\n",
       "      <td>5.7</td>\n",
       "      <td>1057.6</td>\n",
       "      <td>779.3</td>\n",
       "      <td>100</td>\n",
       "    </tr>\n",
       "  </tbody>\n",
       "</table>\n",
       "</div>"
      ],
      "text/plain": [
       "     cement  blast_furnace_slag  fly_ash  water  superplasticizer   \n",
       "76    469.0               117.2      0.0  137.8              32.2  \\\n",
       "246   238.1                 0.0     94.1  186.7               7.0   \n",
       "277   251.4                 0.0    118.3  188.5               5.8   \n",
       "887   326.0                 0.0    138.0  199.0              11.0   \n",
       "208   212.1                 0.0    121.6  180.3               5.7   \n",
       "\n",
       "     coarse_aggregate  fine_aggregate   age  \n",
       "76              852.1            840.5    3  \n",
       "246             949.9            847.0   28  \n",
       "277            1028.4            757.7   56  \n",
       "887             801.0            792.0   28  \n",
       "208            1057.6            779.3  100  "
      ]
     },
     "execution_count": 20,
     "metadata": {},
     "output_type": "execute_result"
    }
   ],
   "source": [
    "X_train.head()"
   ]
  },
  {
   "cell_type": "code",
   "execution_count": 21,
   "id": "45ccdd6b",
   "metadata": {},
   "outputs": [
    {
     "data": {
      "text/plain": [
       "76      40.20\n",
       "246     30.23\n",
       "277     36.97\n",
       "887     40.68\n",
       "208     39.61\n",
       "        ...  \n",
       "320     28.68\n",
       "707     43.25\n",
       "72      33.40\n",
       "318     45.37\n",
       "1027    23.70\n",
       "Name: concrete_compressive_strength, Length: 824, dtype: float64"
      ]
     },
     "execution_count": 21,
     "metadata": {},
     "output_type": "execute_result"
    }
   ],
   "source": [
    "y_train"
   ]
  },
  {
   "cell_type": "code",
   "execution_count": 22,
   "id": "b2e2cc20",
   "metadata": {},
   "outputs": [
    {
     "data": {
      "text/html": [
       "<div>\n",
       "<style scoped>\n",
       "    .dataframe tbody tr th:only-of-type {\n",
       "        vertical-align: middle;\n",
       "    }\n",
       "\n",
       "    .dataframe tbody tr th {\n",
       "        vertical-align: top;\n",
       "    }\n",
       "\n",
       "    .dataframe thead th {\n",
       "        text-align: right;\n",
       "    }\n",
       "</style>\n",
       "<table border=\"1\" class=\"dataframe\">\n",
       "  <thead>\n",
       "    <tr style=\"text-align: right;\">\n",
       "      <th></th>\n",
       "      <th>cement</th>\n",
       "      <th>blast_furnace_slag</th>\n",
       "      <th>fly_ash</th>\n",
       "      <th>water</th>\n",
       "      <th>superplasticizer</th>\n",
       "      <th>coarse_aggregate</th>\n",
       "      <th>fine_aggregate</th>\n",
       "      <th>age</th>\n",
       "    </tr>\n",
       "  </thead>\n",
       "  <tbody>\n",
       "    <tr>\n",
       "      <th>589</th>\n",
       "      <td>339.2</td>\n",
       "      <td>0.0</td>\n",
       "      <td>0.0</td>\n",
       "      <td>185.7</td>\n",
       "      <td>0.0</td>\n",
       "      <td>1069.2</td>\n",
       "      <td>754.3</td>\n",
       "      <td>28</td>\n",
       "    </tr>\n",
       "    <tr>\n",
       "      <th>298</th>\n",
       "      <td>168.9</td>\n",
       "      <td>42.2</td>\n",
       "      <td>124.3</td>\n",
       "      <td>158.3</td>\n",
       "      <td>10.8</td>\n",
       "      <td>1080.8</td>\n",
       "      <td>796.2</td>\n",
       "      <td>100</td>\n",
       "    </tr>\n",
       "    <tr>\n",
       "      <th>586</th>\n",
       "      <td>381.4</td>\n",
       "      <td>0.0</td>\n",
       "      <td>0.0</td>\n",
       "      <td>185.7</td>\n",
       "      <td>0.0</td>\n",
       "      <td>1104.6</td>\n",
       "      <td>784.3</td>\n",
       "      <td>7</td>\n",
       "    </tr>\n",
       "    <tr>\n",
       "      <th>195</th>\n",
       "      <td>194.7</td>\n",
       "      <td>0.0</td>\n",
       "      <td>100.5</td>\n",
       "      <td>165.6</td>\n",
       "      <td>7.5</td>\n",
       "      <td>1006.4</td>\n",
       "      <td>905.9</td>\n",
       "      <td>14</td>\n",
       "    </tr>\n",
       "    <tr>\n",
       "      <th>493</th>\n",
       "      <td>387.0</td>\n",
       "      <td>20.0</td>\n",
       "      <td>94.0</td>\n",
       "      <td>157.0</td>\n",
       "      <td>11.6</td>\n",
       "      <td>938.0</td>\n",
       "      <td>845.0</td>\n",
       "      <td>7</td>\n",
       "    </tr>\n",
       "  </tbody>\n",
       "</table>\n",
       "</div>"
      ],
      "text/plain": [
       "     cement  blast_furnace_slag  fly_ash  water  superplasticizer   \n",
       "589   339.2                 0.0      0.0  185.7               0.0  \\\n",
       "298   168.9                42.2    124.3  158.3              10.8   \n",
       "586   381.4                 0.0      0.0  185.7               0.0   \n",
       "195   194.7                 0.0    100.5  165.6               7.5   \n",
       "493   387.0                20.0     94.0  157.0              11.6   \n",
       "\n",
       "     coarse_aggregate  fine_aggregate   age  \n",
       "589            1069.2            754.3   28  \n",
       "298            1080.8            796.2  100  \n",
       "586            1104.6            784.3    7  \n",
       "195            1006.4            905.9   14  \n",
       "493             938.0            845.0    7  "
      ]
     },
     "execution_count": 22,
     "metadata": {},
     "output_type": "execute_result"
    }
   ],
   "source": [
    "X_test.head()"
   ]
  },
  {
   "cell_type": "code",
   "execution_count": 23,
   "id": "5500049a",
   "metadata": {},
   "outputs": [
    {
     "data": {
      "text/plain": [
       "589    31.90\n",
       "298    48.15\n",
       "586    14.54\n",
       "195    24.99\n",
       "493    41.67\n",
       "       ...  \n",
       "66     44.70\n",
       "656    11.41\n",
       "732     9.01\n",
       "638    38.21\n",
       "95     49.20\n",
       "Name: concrete_compressive_strength, Length: 206, dtype: float64"
      ]
     },
     "execution_count": 23,
     "metadata": {},
     "output_type": "execute_result"
    }
   ],
   "source": [
    "y_test"
   ]
  },
  {
   "cell_type": "code",
   "execution_count": 24,
   "id": "7b65d5bc",
   "metadata": {},
   "outputs": [],
   "source": [
    "# Now applying different regression techniques to find the best accuracy"
   ]
  },
  {
   "cell_type": "markdown",
   "id": "e5e5f112",
   "metadata": {},
   "source": [
    "### Linear Regresssion"
   ]
  },
  {
   "cell_type": "code",
   "execution_count": 25,
   "id": "4ded010a",
   "metadata": {},
   "outputs": [
    {
     "data": {
      "text/html": [
       "<style>#sk-container-id-1 {color: black;background-color: white;}#sk-container-id-1 pre{padding: 0;}#sk-container-id-1 div.sk-toggleable {background-color: white;}#sk-container-id-1 label.sk-toggleable__label {cursor: pointer;display: block;width: 100%;margin-bottom: 0;padding: 0.3em;box-sizing: border-box;text-align: center;}#sk-container-id-1 label.sk-toggleable__label-arrow:before {content: \"▸\";float: left;margin-right: 0.25em;color: #696969;}#sk-container-id-1 label.sk-toggleable__label-arrow:hover:before {color: black;}#sk-container-id-1 div.sk-estimator:hover label.sk-toggleable__label-arrow:before {color: black;}#sk-container-id-1 div.sk-toggleable__content {max-height: 0;max-width: 0;overflow: hidden;text-align: left;background-color: #f0f8ff;}#sk-container-id-1 div.sk-toggleable__content pre {margin: 0.2em;color: black;border-radius: 0.25em;background-color: #f0f8ff;}#sk-container-id-1 input.sk-toggleable__control:checked~div.sk-toggleable__content {max-height: 200px;max-width: 100%;overflow: auto;}#sk-container-id-1 input.sk-toggleable__control:checked~label.sk-toggleable__label-arrow:before {content: \"▾\";}#sk-container-id-1 div.sk-estimator input.sk-toggleable__control:checked~label.sk-toggleable__label {background-color: #d4ebff;}#sk-container-id-1 div.sk-label input.sk-toggleable__control:checked~label.sk-toggleable__label {background-color: #d4ebff;}#sk-container-id-1 input.sk-hidden--visually {border: 0;clip: rect(1px 1px 1px 1px);clip: rect(1px, 1px, 1px, 1px);height: 1px;margin: -1px;overflow: hidden;padding: 0;position: absolute;width: 1px;}#sk-container-id-1 div.sk-estimator {font-family: monospace;background-color: #f0f8ff;border: 1px dotted black;border-radius: 0.25em;box-sizing: border-box;margin-bottom: 0.5em;}#sk-container-id-1 div.sk-estimator:hover {background-color: #d4ebff;}#sk-container-id-1 div.sk-parallel-item::after {content: \"\";width: 100%;border-bottom: 1px solid gray;flex-grow: 1;}#sk-container-id-1 div.sk-label:hover label.sk-toggleable__label {background-color: #d4ebff;}#sk-container-id-1 div.sk-serial::before {content: \"\";position: absolute;border-left: 1px solid gray;box-sizing: border-box;top: 0;bottom: 0;left: 50%;z-index: 0;}#sk-container-id-1 div.sk-serial {display: flex;flex-direction: column;align-items: center;background-color: white;padding-right: 0.2em;padding-left: 0.2em;position: relative;}#sk-container-id-1 div.sk-item {position: relative;z-index: 1;}#sk-container-id-1 div.sk-parallel {display: flex;align-items: stretch;justify-content: center;background-color: white;position: relative;}#sk-container-id-1 div.sk-item::before, #sk-container-id-1 div.sk-parallel-item::before {content: \"\";position: absolute;border-left: 1px solid gray;box-sizing: border-box;top: 0;bottom: 0;left: 50%;z-index: -1;}#sk-container-id-1 div.sk-parallel-item {display: flex;flex-direction: column;z-index: 1;position: relative;background-color: white;}#sk-container-id-1 div.sk-parallel-item:first-child::after {align-self: flex-end;width: 50%;}#sk-container-id-1 div.sk-parallel-item:last-child::after {align-self: flex-start;width: 50%;}#sk-container-id-1 div.sk-parallel-item:only-child::after {width: 0;}#sk-container-id-1 div.sk-dashed-wrapped {border: 1px dashed gray;margin: 0 0.4em 0.5em 0.4em;box-sizing: border-box;padding-bottom: 0.4em;background-color: white;}#sk-container-id-1 div.sk-label label {font-family: monospace;font-weight: bold;display: inline-block;line-height: 1.2em;}#sk-container-id-1 div.sk-label-container {text-align: center;}#sk-container-id-1 div.sk-container {/* jupyter's `normalize.less` sets `[hidden] { display: none; }` but bootstrap.min.css set `[hidden] { display: none !important; }` so we also need the `!important` here to be able to override the default hidden behavior on the sphinx rendered scikit-learn.org. See: https://github.com/scikit-learn/scikit-learn/issues/21755 */display: inline-block !important;position: relative;}#sk-container-id-1 div.sk-text-repr-fallback {display: none;}</style><div id=\"sk-container-id-1\" class=\"sk-top-container\"><div class=\"sk-text-repr-fallback\"><pre>LinearRegression()</pre><b>In a Jupyter environment, please rerun this cell to show the HTML representation or trust the notebook. <br />On GitHub, the HTML representation is unable to render, please try loading this page with nbviewer.org.</b></div><div class=\"sk-container\" hidden><div class=\"sk-item\"><div class=\"sk-estimator sk-toggleable\"><input class=\"sk-toggleable__control sk-hidden--visually\" id=\"sk-estimator-id-1\" type=\"checkbox\" checked><label for=\"sk-estimator-id-1\" class=\"sk-toggleable__label sk-toggleable__label-arrow\">LinearRegression</label><div class=\"sk-toggleable__content\"><pre>LinearRegression()</pre></div></div></div></div></div>"
      ],
      "text/plain": [
       "LinearRegression()"
      ]
     },
     "execution_count": 25,
     "metadata": {},
     "output_type": "execute_result"
    }
   ],
   "source": [
    "from sklearn.linear_model import LinearRegression\n",
    "from sklearn.model_selection import GridSearchCV\n",
    "linear = LinearRegression()\n",
    "linear.fit(X_train,y_train)"
   ]
  },
  {
   "cell_type": "code",
   "execution_count": 26,
   "id": "47b1fe4a",
   "metadata": {},
   "outputs": [],
   "source": [
    "linear_predict = linear.predict(X_test)\n"
   ]
  },
  {
   "cell_type": "code",
   "execution_count": 27,
   "id": "84e0dae4",
   "metadata": {},
   "outputs": [
    {
     "data": {
      "text/plain": [
       "array([27.38136587, 38.72284204, 30.67903582, 23.97432817, 47.81579404,\n",
       "       35.77338835, 25.72405762, 52.76987728, 35.18841243, 33.42278787,\n",
       "       53.91519649, 61.21431615, 24.11358873, 49.70875716, 31.88410938,\n",
       "       60.3129897 , 26.59060294, 21.39980144, 30.75317499, 72.03132211,\n",
       "       17.84980838, 23.6561113 , 40.6756793 , 24.25544746, 45.98516388,\n",
       "       23.78327551, 10.21474729, 26.9625667 , 28.67181688, 58.92719698,\n",
       "       23.15432062, 23.44578262, 38.40494318, 22.82241337, 44.60588942,\n",
       "       47.57695898, 16.48169681, 20.27267468, 24.24772999, 37.07963814,\n",
       "       33.32964134, 49.36564998, 25.79095277, 22.62269545, 31.47556643,\n",
       "       48.08101135, 24.69246579, 33.41779699, 35.9362256 , 34.48713682,\n",
       "       17.46957441, 25.12465743, 59.9328835 , 40.54147857, 55.72869529,\n",
       "       36.91381517, 25.89559723, 39.01217594, 33.72978189, 18.0434019 ,\n",
       "       71.94873015, 50.43579614, 32.18445947, 32.54979614, 23.1970394 ,\n",
       "       47.75558043, 27.96572752, 13.51315741, 30.28003933, 23.86971763,\n",
       "       61.39780607, 28.5519574 , 42.86907428, 64.66001264, 47.18706378,\n",
       "       58.54001673, 49.34886717, 19.57796353, 44.27579288, 37.43577041,\n",
       "       30.77362139, 43.13834501, 35.22037443, 52.37152751, 58.90644064,\n",
       "       40.57875135, 35.89300893, 26.82762078, 32.85428525, 20.08106107,\n",
       "       25.6928999 , 37.55371331, 19.96314751, 51.4216234 , 13.18328669,\n",
       "       42.82744904, 26.1820405 , 40.32587344, 33.44447912, 28.28745084,\n",
       "       28.9999003 , 30.71675882, 31.56388345, 39.01900398, 40.73913828,\n",
       "       57.05836099, 39.21777306, 52.72090342, 20.8329452 , 39.06686658,\n",
       "       16.96558578, 27.58011042, 34.52974105, 37.28556058, 30.94961615,\n",
       "       30.53330976, 62.9021459 , 29.32119388, 28.52493399, 59.33994235,\n",
       "       27.42841086, 44.54920523, 27.67059951, 27.46970707, 40.2695908 ,\n",
       "       22.13910253, 14.20660089, 42.32798191, 11.70133899, 18.79525676,\n",
       "       26.96799288, 35.22618432, 60.62931688, 19.26615507, 25.63671023,\n",
       "       35.4567567 , 47.46725674, 28.09088466, 14.59628818, 47.89176566,\n",
       "       54.98751576, 46.72789144, 22.67507948, 39.62984994, 25.44447452,\n",
       "       48.07051892, 36.46870607, 41.51367795, 30.22152469, 61.39780607,\n",
       "       33.5319328 , 37.83539666, 50.60377857, 54.8214768 , 20.14137188,\n",
       "       43.60859329, 37.9091056 , 31.93281906, 61.58206343, 31.36995782,\n",
       "       19.15334886, 47.55432379, 45.36264737, 36.51860284, 32.82336934,\n",
       "       42.8712013 , 27.68730903, 53.96276509, 32.83688102, 25.57947736,\n",
       "       35.10185491, 37.64108494, 53.32262753, 22.76855294, 53.48779879,\n",
       "       16.51569804, 36.05407492, 28.92946939, 17.9799839 , 22.18465393,\n",
       "       28.56045696, 53.57231796, 34.10718629, 22.78420676, 30.42761634,\n",
       "       22.21184903, 39.51688724, 16.62780698, 30.71159626, 26.5568027 ,\n",
       "       21.28882986, 20.07811696, 33.78888222, 30.68119288, 49.63555479,\n",
       "       56.91379104, 54.61512486, 29.02354571, 27.91931261, 58.09219433,\n",
       "       71.00903845, 63.53579193, 19.65415605, 25.6012059 , 31.15747244,\n",
       "       54.68572026])"
      ]
     },
     "execution_count": 27,
     "metadata": {},
     "output_type": "execute_result"
    }
   ],
   "source": [
    "linear_predict"
   ]
  },
  {
   "cell_type": "code",
   "execution_count": 28,
   "id": "11581748",
   "metadata": {},
   "outputs": [
    {
     "name": "stdout",
     "output_type": "stream",
     "text": [
      "Accuracy score for Linear Regression:  57.2431195105733\n"
     ]
    }
   ],
   "source": [
    "from sklearn.metrics import r2_score\n",
    "linear_score = r2_score(y_test,linear_predict)\n",
    "print(\"Accuracy score for Linear Regression: \",linear_score*100)"
   ]
  },
  {
   "cell_type": "markdown",
   "id": "f76782ab",
   "metadata": {},
   "source": [
    "### Ridge Regression"
   ]
  },
  {
   "cell_type": "code",
   "execution_count": 29,
   "id": "f9c7f678",
   "metadata": {},
   "outputs": [
    {
     "data": {
      "text/html": [
       "<style>#sk-container-id-2 {color: black;background-color: white;}#sk-container-id-2 pre{padding: 0;}#sk-container-id-2 div.sk-toggleable {background-color: white;}#sk-container-id-2 label.sk-toggleable__label {cursor: pointer;display: block;width: 100%;margin-bottom: 0;padding: 0.3em;box-sizing: border-box;text-align: center;}#sk-container-id-2 label.sk-toggleable__label-arrow:before {content: \"▸\";float: left;margin-right: 0.25em;color: #696969;}#sk-container-id-2 label.sk-toggleable__label-arrow:hover:before {color: black;}#sk-container-id-2 div.sk-estimator:hover label.sk-toggleable__label-arrow:before {color: black;}#sk-container-id-2 div.sk-toggleable__content {max-height: 0;max-width: 0;overflow: hidden;text-align: left;background-color: #f0f8ff;}#sk-container-id-2 div.sk-toggleable__content pre {margin: 0.2em;color: black;border-radius: 0.25em;background-color: #f0f8ff;}#sk-container-id-2 input.sk-toggleable__control:checked~div.sk-toggleable__content {max-height: 200px;max-width: 100%;overflow: auto;}#sk-container-id-2 input.sk-toggleable__control:checked~label.sk-toggleable__label-arrow:before {content: \"▾\";}#sk-container-id-2 div.sk-estimator input.sk-toggleable__control:checked~label.sk-toggleable__label {background-color: #d4ebff;}#sk-container-id-2 div.sk-label input.sk-toggleable__control:checked~label.sk-toggleable__label {background-color: #d4ebff;}#sk-container-id-2 input.sk-hidden--visually {border: 0;clip: rect(1px 1px 1px 1px);clip: rect(1px, 1px, 1px, 1px);height: 1px;margin: -1px;overflow: hidden;padding: 0;position: absolute;width: 1px;}#sk-container-id-2 div.sk-estimator {font-family: monospace;background-color: #f0f8ff;border: 1px dotted black;border-radius: 0.25em;box-sizing: border-box;margin-bottom: 0.5em;}#sk-container-id-2 div.sk-estimator:hover {background-color: #d4ebff;}#sk-container-id-2 div.sk-parallel-item::after {content: \"\";width: 100%;border-bottom: 1px solid gray;flex-grow: 1;}#sk-container-id-2 div.sk-label:hover label.sk-toggleable__label {background-color: #d4ebff;}#sk-container-id-2 div.sk-serial::before {content: \"\";position: absolute;border-left: 1px solid gray;box-sizing: border-box;top: 0;bottom: 0;left: 50%;z-index: 0;}#sk-container-id-2 div.sk-serial {display: flex;flex-direction: column;align-items: center;background-color: white;padding-right: 0.2em;padding-left: 0.2em;position: relative;}#sk-container-id-2 div.sk-item {position: relative;z-index: 1;}#sk-container-id-2 div.sk-parallel {display: flex;align-items: stretch;justify-content: center;background-color: white;position: relative;}#sk-container-id-2 div.sk-item::before, #sk-container-id-2 div.sk-parallel-item::before {content: \"\";position: absolute;border-left: 1px solid gray;box-sizing: border-box;top: 0;bottom: 0;left: 50%;z-index: -1;}#sk-container-id-2 div.sk-parallel-item {display: flex;flex-direction: column;z-index: 1;position: relative;background-color: white;}#sk-container-id-2 div.sk-parallel-item:first-child::after {align-self: flex-end;width: 50%;}#sk-container-id-2 div.sk-parallel-item:last-child::after {align-self: flex-start;width: 50%;}#sk-container-id-2 div.sk-parallel-item:only-child::after {width: 0;}#sk-container-id-2 div.sk-dashed-wrapped {border: 1px dashed gray;margin: 0 0.4em 0.5em 0.4em;box-sizing: border-box;padding-bottom: 0.4em;background-color: white;}#sk-container-id-2 div.sk-label label {font-family: monospace;font-weight: bold;display: inline-block;line-height: 1.2em;}#sk-container-id-2 div.sk-label-container {text-align: center;}#sk-container-id-2 div.sk-container {/* jupyter's `normalize.less` sets `[hidden] { display: none; }` but bootstrap.min.css set `[hidden] { display: none !important; }` so we also need the `!important` here to be able to override the default hidden behavior on the sphinx rendered scikit-learn.org. See: https://github.com/scikit-learn/scikit-learn/issues/21755 */display: inline-block !important;position: relative;}#sk-container-id-2 div.sk-text-repr-fallback {display: none;}</style><div id=\"sk-container-id-2\" class=\"sk-top-container\"><div class=\"sk-text-repr-fallback\"><pre>Ridge()</pre><b>In a Jupyter environment, please rerun this cell to show the HTML representation or trust the notebook. <br />On GitHub, the HTML representation is unable to render, please try loading this page with nbviewer.org.</b></div><div class=\"sk-container\" hidden><div class=\"sk-item\"><div class=\"sk-estimator sk-toggleable\"><input class=\"sk-toggleable__control sk-hidden--visually\" id=\"sk-estimator-id-2\" type=\"checkbox\" checked><label for=\"sk-estimator-id-2\" class=\"sk-toggleable__label sk-toggleable__label-arrow\">Ridge</label><div class=\"sk-toggleable__content\"><pre>Ridge()</pre></div></div></div></div></div>"
      ],
      "text/plain": [
       "Ridge()"
      ]
     },
     "execution_count": 29,
     "metadata": {},
     "output_type": "execute_result"
    }
   ],
   "source": [
    "from sklearn.linear_model import Ridge\n",
    "ridge = Ridge()\n",
    "ridge.fit(X_train,y_train)"
   ]
  },
  {
   "cell_type": "code",
   "execution_count": 30,
   "id": "806e76d7",
   "metadata": {},
   "outputs": [],
   "source": [
    "ridge_predict = ridge.predict(X_test)"
   ]
  },
  {
   "cell_type": "code",
   "execution_count": 31,
   "id": "431735c6",
   "metadata": {},
   "outputs": [
    {
     "data": {
      "text/plain": [
       "array([27.38140121, 38.72277665, 30.67904368, 23.97432506, 47.81581092,\n",
       "       35.77366675, 25.72402677, 52.76966143, 35.18841311, 33.42283985,\n",
       "       53.91519737, 61.21429981, 24.1136049 , 49.70878272, 31.88405894,\n",
       "       60.31277835, 26.59067648, 21.39981631, 30.75306465, 72.03099611,\n",
       "       17.84984058, 23.6560151 , 40.67577781, 24.25549763, 45.98543952,\n",
       "       23.78330085, 10.21477017, 26.9627452 , 28.67177826, 58.92718194,\n",
       "       23.15428448, 23.44583103, 38.40496492, 22.8224357 , 44.60596729,\n",
       "       47.577063  , 16.48172025, 20.27268646, 24.24777157, 37.07962004,\n",
       "       33.32959167, 49.36559882, 25.7909743 , 22.6227671 , 31.47558062,\n",
       "       48.08119664, 24.69244793, 33.41782008, 35.93611871, 34.48715847,\n",
       "       17.46962783, 25.12463836, 59.932838  , 40.54156728, 55.72853542,\n",
       "       36.91394877, 25.89555132, 39.01229453, 33.7297656 , 18.04335785,\n",
       "       71.94870966, 50.43587695, 32.18447765, 32.54983311, 23.19699186,\n",
       "       47.75569197, 27.96580594, 13.51318165, 30.27995737, 23.86975777,\n",
       "       61.39776176, 28.55192382, 42.86924414, 64.65993011, 47.18711356,\n",
       "       58.53997316, 49.34882375, 19.57798703, 44.27592449, 37.43604836,\n",
       "       30.77362338, 43.13824907, 35.22034937, 52.37169398, 58.90648342,\n",
       "       40.57876527, 35.89295774, 26.82761538, 32.85431337, 20.08109235,\n",
       "       25.69296604, 37.55370404, 19.96320025, 51.42162495, 13.18330876,\n",
       "       42.82744017, 26.18188437, 40.32582396, 33.44449211, 28.28756302,\n",
       "       29.00001228, 30.71674144, 31.56377965, 39.01900489, 40.73899507,\n",
       "       57.05834578, 39.21772097, 52.72068903, 20.83287398, 39.06685535,\n",
       "       16.96551896, 27.58010676, 34.52969069, 37.28553661, 30.94966609,\n",
       "       30.53332241, 62.90194001, 29.3211878 , 28.52504611, 59.33988851,\n",
       "       27.42830143, 44.54923848, 27.670575  , 27.46974585, 40.26952612,\n",
       "       22.13903096, 14.20668955, 42.32794132, 11.7013251 , 18.79525546,\n",
       "       26.96810105, 35.22610832, 60.62927041, 19.26621109, 25.63670668,\n",
       "       35.45675857, 47.46733835, 28.09076547, 14.59637089, 47.89188876,\n",
       "       54.98735208, 46.72793896, 22.67516458, 39.62985243, 25.44448626,\n",
       "       48.07064972, 36.46863706, 41.5136512 , 30.22152885, 61.39776176,\n",
       "       33.53200556, 37.83536825, 50.6037142 , 54.82149899, 20.14142405,\n",
       "       43.60858067, 37.90923327, 31.93280937, 61.58174025, 31.36985627,\n",
       "       19.15333716, 47.55445743, 45.36281656, 36.51872211, 32.82319103,\n",
       "       42.8712166 , 27.68715602, 53.96269913, 32.83669947, 25.57947661,\n",
       "       35.10199294, 37.64107955, 53.32264206, 22.76860816, 53.48773295,\n",
       "       16.51575225, 36.05408185, 28.92956744, 17.97993573, 22.18464927,\n",
       "       28.56046993, 53.57225279, 34.10725028, 22.78421766, 30.42758948,\n",
       "       22.21183585, 39.51683553, 16.62764255, 30.71149078, 26.55676016,\n",
       "       21.28882788, 20.07807308, 33.78886936, 30.68121748, 49.63553171,\n",
       "       56.91380168, 54.61519181, 29.02363753, 27.9192459 , 58.09218764,\n",
       "       71.00900961, 63.53579747, 19.6542285 , 25.60121043, 31.15753185,\n",
       "       54.68564042])"
      ]
     },
     "execution_count": 31,
     "metadata": {},
     "output_type": "execute_result"
    }
   ],
   "source": [
    "ridge_predict"
   ]
  },
  {
   "cell_type": "code",
   "execution_count": 32,
   "id": "c352c69e",
   "metadata": {},
   "outputs": [
    {
     "name": "stdout",
     "output_type": "stream",
     "text": [
      "Accuracy score for Ridge Regression:  57.243121933811466\n"
     ]
    }
   ],
   "source": [
    "ridge_score = r2_score(y_test,ridge_predict)\n",
    "print(\"Accuracy score for Ridge Regression: \",ridge_score*100)"
   ]
  },
  {
   "cell_type": "markdown",
   "id": "b5f7a040",
   "metadata": {},
   "source": [
    "### Lasso Regression"
   ]
  },
  {
   "cell_type": "code",
   "execution_count": 33,
   "id": "dac8ed73",
   "metadata": {},
   "outputs": [
    {
     "data": {
      "text/html": [
       "<style>#sk-container-id-3 {color: black;background-color: white;}#sk-container-id-3 pre{padding: 0;}#sk-container-id-3 div.sk-toggleable {background-color: white;}#sk-container-id-3 label.sk-toggleable__label {cursor: pointer;display: block;width: 100%;margin-bottom: 0;padding: 0.3em;box-sizing: border-box;text-align: center;}#sk-container-id-3 label.sk-toggleable__label-arrow:before {content: \"▸\";float: left;margin-right: 0.25em;color: #696969;}#sk-container-id-3 label.sk-toggleable__label-arrow:hover:before {color: black;}#sk-container-id-3 div.sk-estimator:hover label.sk-toggleable__label-arrow:before {color: black;}#sk-container-id-3 div.sk-toggleable__content {max-height: 0;max-width: 0;overflow: hidden;text-align: left;background-color: #f0f8ff;}#sk-container-id-3 div.sk-toggleable__content pre {margin: 0.2em;color: black;border-radius: 0.25em;background-color: #f0f8ff;}#sk-container-id-3 input.sk-toggleable__control:checked~div.sk-toggleable__content {max-height: 200px;max-width: 100%;overflow: auto;}#sk-container-id-3 input.sk-toggleable__control:checked~label.sk-toggleable__label-arrow:before {content: \"▾\";}#sk-container-id-3 div.sk-estimator input.sk-toggleable__control:checked~label.sk-toggleable__label {background-color: #d4ebff;}#sk-container-id-3 div.sk-label input.sk-toggleable__control:checked~label.sk-toggleable__label {background-color: #d4ebff;}#sk-container-id-3 input.sk-hidden--visually {border: 0;clip: rect(1px 1px 1px 1px);clip: rect(1px, 1px, 1px, 1px);height: 1px;margin: -1px;overflow: hidden;padding: 0;position: absolute;width: 1px;}#sk-container-id-3 div.sk-estimator {font-family: monospace;background-color: #f0f8ff;border: 1px dotted black;border-radius: 0.25em;box-sizing: border-box;margin-bottom: 0.5em;}#sk-container-id-3 div.sk-estimator:hover {background-color: #d4ebff;}#sk-container-id-3 div.sk-parallel-item::after {content: \"\";width: 100%;border-bottom: 1px solid gray;flex-grow: 1;}#sk-container-id-3 div.sk-label:hover label.sk-toggleable__label {background-color: #d4ebff;}#sk-container-id-3 div.sk-serial::before {content: \"\";position: absolute;border-left: 1px solid gray;box-sizing: border-box;top: 0;bottom: 0;left: 50%;z-index: 0;}#sk-container-id-3 div.sk-serial {display: flex;flex-direction: column;align-items: center;background-color: white;padding-right: 0.2em;padding-left: 0.2em;position: relative;}#sk-container-id-3 div.sk-item {position: relative;z-index: 1;}#sk-container-id-3 div.sk-parallel {display: flex;align-items: stretch;justify-content: center;background-color: white;position: relative;}#sk-container-id-3 div.sk-item::before, #sk-container-id-3 div.sk-parallel-item::before {content: \"\";position: absolute;border-left: 1px solid gray;box-sizing: border-box;top: 0;bottom: 0;left: 50%;z-index: -1;}#sk-container-id-3 div.sk-parallel-item {display: flex;flex-direction: column;z-index: 1;position: relative;background-color: white;}#sk-container-id-3 div.sk-parallel-item:first-child::after {align-self: flex-end;width: 50%;}#sk-container-id-3 div.sk-parallel-item:last-child::after {align-self: flex-start;width: 50%;}#sk-container-id-3 div.sk-parallel-item:only-child::after {width: 0;}#sk-container-id-3 div.sk-dashed-wrapped {border: 1px dashed gray;margin: 0 0.4em 0.5em 0.4em;box-sizing: border-box;padding-bottom: 0.4em;background-color: white;}#sk-container-id-3 div.sk-label label {font-family: monospace;font-weight: bold;display: inline-block;line-height: 1.2em;}#sk-container-id-3 div.sk-label-container {text-align: center;}#sk-container-id-3 div.sk-container {/* jupyter's `normalize.less` sets `[hidden] { display: none; }` but bootstrap.min.css set `[hidden] { display: none !important; }` so we also need the `!important` here to be able to override the default hidden behavior on the sphinx rendered scikit-learn.org. See: https://github.com/scikit-learn/scikit-learn/issues/21755 */display: inline-block !important;position: relative;}#sk-container-id-3 div.sk-text-repr-fallback {display: none;}</style><div id=\"sk-container-id-3\" class=\"sk-top-container\"><div class=\"sk-text-repr-fallback\"><pre>Lasso()</pre><b>In a Jupyter environment, please rerun this cell to show the HTML representation or trust the notebook. <br />On GitHub, the HTML representation is unable to render, please try loading this page with nbviewer.org.</b></div><div class=\"sk-container\" hidden><div class=\"sk-item\"><div class=\"sk-estimator sk-toggleable\"><input class=\"sk-toggleable__control sk-hidden--visually\" id=\"sk-estimator-id-3\" type=\"checkbox\" checked><label for=\"sk-estimator-id-3\" class=\"sk-toggleable__label sk-toggleable__label-arrow\">Lasso</label><div class=\"sk-toggleable__content\"><pre>Lasso()</pre></div></div></div></div></div>"
      ],
      "text/plain": [
       "Lasso()"
      ]
     },
     "execution_count": 33,
     "metadata": {},
     "output_type": "execute_result"
    }
   ],
   "source": [
    "from sklearn.linear_model import Lasso\n",
    "lasso = Lasso()\n",
    "lasso.fit(X_train,y_train)"
   ]
  },
  {
   "cell_type": "code",
   "execution_count": 34,
   "id": "1e544bec",
   "metadata": {},
   "outputs": [],
   "source": [
    "lasso_predict = lasso.predict(X_test)"
   ]
  },
  {
   "cell_type": "code",
   "execution_count": 35,
   "id": "6ba41e99",
   "metadata": {},
   "outputs": [
    {
     "data": {
      "text/plain": [
       "array([27.5346654 , 38.48796845, 30.54176182, 23.90913714, 47.7354967 ,\n",
       "       36.7020226 , 25.59295345, 52.29604722, 35.31195622, 33.60794263,\n",
       "       53.92958313, 61.0445642 , 23.97496053, 49.65196815, 31.78971585,\n",
       "       59.73263042, 26.73342722, 21.47367378, 30.39134388, 71.16630615,\n",
       "       17.9761412 , 23.48588312, 40.8328628 , 24.41162155, 46.86893968,\n",
       "       23.88758315, 10.32847718, 27.37151107, 28.71862827, 58.92786825,\n",
       "       23.10634579, 23.52066409, 38.4197575 , 22.85812564, 44.81164852,\n",
       "       47.73921825, 16.58248084, 20.3781175 , 24.33894046, 36.99967237,\n",
       "       33.20528384, 49.15053776, 25.81362479, 22.86779346, 31.30459842,\n",
       "       48.42927171, 24.57986679, 33.45451893, 35.5638076 , 34.57868041,\n",
       "       17.53851783, 25.02662261, 59.8047591 , 40.64400302, 55.28414562,\n",
       "       37.2888064 , 25.72361532, 39.27650411, 33.5695709 , 18.00018247,\n",
       "       71.93921484, 50.55784941, 32.27916567, 32.71012455, 23.11564699,\n",
       "       48.08029384, 28.24414793, 13.62698169, 30.02474525, 24.02707607,\n",
       "       61.17134807, 28.41615959, 43.19721493, 64.34983927, 47.23957329,\n",
       "       58.38039926, 49.28604224, 19.65254966, 44.6184443 , 38.35710213,\n",
       "       30.60530761, 42.76026597, 35.15298568, 52.89444455, 58.9846222 ,\n",
       "       40.65139915, 35.71737811, 26.94579227, 32.96975834, 20.28849632,\n",
       "       25.90670504, 37.64827436, 20.02113712, 51.44696385, 13.28397633,\n",
       "       42.69034205, 25.86428971, 40.28305998, 33.49870295, 28.75517663,\n",
       "       29.46449643, 30.62854268, 31.41232473, 38.87715302, 40.40082211,\n",
       "       56.90686539, 39.02753716, 52.25002226, 20.60004559, 39.10109173,\n",
       "       16.90298436, 27.64796175, 34.35138311, 37.30267145, 31.08207223,\n",
       "       30.49237999, 62.34393118, 29.42841156, 28.99161656, 59.08101491,\n",
       "       27.08118483, 44.54825218, 27.60097451, 27.63809596, 40.16382628,\n",
       "       21.90046522, 14.47316831, 42.27633448, 11.7088356 , 18.85365609,\n",
       "       27.26469248, 34.99341836, 60.51693902, 19.67241921, 25.56421667,\n",
       "       35.33055404, 47.60235026, 27.84761114, 14.91703764, 48.28844756,\n",
       "       54.53946703, 46.85465621, 23.01152466, 39.68929631, 25.40629625,\n",
       "       48.44514283, 36.23086971, 41.41864388, 30.20271253, 61.17134807,\n",
       "       33.67861975, 37.71972917, 50.32695492, 54.84045207, 20.33645704,\n",
       "       43.47487674, 38.37492759, 32.09908626, 60.76294913, 31.13448447,\n",
       "       19.17729629, 47.90810273, 45.67983422, 36.79388482, 32.45048189,\n",
       "       42.91896262, 27.35869864, 53.69994064, 32.45361656, 25.64348543,\n",
       "       35.45092582, 37.53857758, 53.26939942, 22.97623944, 53.22706078,\n",
       "       16.78009431, 35.99771953, 29.30100031, 17.92504717, 22.20101678,\n",
       "       28.69865168, 53.28245407, 34.29296142, 22.87718593, 30.25237788,\n",
       "       22.10223419, 39.31662168, 16.26977322, 30.3621291 , 26.40227794,\n",
       "       21.33627538, 20.07037123, 33.73555304, 30.73085385, 49.4279205 ,\n",
       "       56.87687556, 54.48807881, 29.17666631, 27.71903215, 57.96286911,\n",
       "       70.7075144 , 63.22398927, 19.91229431, 25.51829685, 31.35775949,\n",
       "       54.41936212])"
      ]
     },
     "execution_count": 35,
     "metadata": {},
     "output_type": "execute_result"
    }
   ],
   "source": [
    "lasso_predict"
   ]
  },
  {
   "cell_type": "code",
   "execution_count": 36,
   "id": "d7e26ff3",
   "metadata": {},
   "outputs": [
    {
     "name": "stdout",
     "output_type": "stream",
     "text": [
      "Accuracy score for Lasso Regression:  57.18279896892429\n"
     ]
    }
   ],
   "source": [
    "lasso_score = r2_score(y_test,lasso_predict)\n",
    "print('Accuracy score for Lasso Regression: ',lasso_score*100)"
   ]
  },
  {
   "cell_type": "markdown",
   "id": "bb3dbb4d",
   "metadata": {},
   "source": [
    "### Elastic Net"
   ]
  },
  {
   "cell_type": "code",
   "execution_count": 37,
   "id": "795ef83d",
   "metadata": {},
   "outputs": [
    {
     "data": {
      "text/html": [
       "<style>#sk-container-id-4 {color: black;background-color: white;}#sk-container-id-4 pre{padding: 0;}#sk-container-id-4 div.sk-toggleable {background-color: white;}#sk-container-id-4 label.sk-toggleable__label {cursor: pointer;display: block;width: 100%;margin-bottom: 0;padding: 0.3em;box-sizing: border-box;text-align: center;}#sk-container-id-4 label.sk-toggleable__label-arrow:before {content: \"▸\";float: left;margin-right: 0.25em;color: #696969;}#sk-container-id-4 label.sk-toggleable__label-arrow:hover:before {color: black;}#sk-container-id-4 div.sk-estimator:hover label.sk-toggleable__label-arrow:before {color: black;}#sk-container-id-4 div.sk-toggleable__content {max-height: 0;max-width: 0;overflow: hidden;text-align: left;background-color: #f0f8ff;}#sk-container-id-4 div.sk-toggleable__content pre {margin: 0.2em;color: black;border-radius: 0.25em;background-color: #f0f8ff;}#sk-container-id-4 input.sk-toggleable__control:checked~div.sk-toggleable__content {max-height: 200px;max-width: 100%;overflow: auto;}#sk-container-id-4 input.sk-toggleable__control:checked~label.sk-toggleable__label-arrow:before {content: \"▾\";}#sk-container-id-4 div.sk-estimator input.sk-toggleable__control:checked~label.sk-toggleable__label {background-color: #d4ebff;}#sk-container-id-4 div.sk-label input.sk-toggleable__control:checked~label.sk-toggleable__label {background-color: #d4ebff;}#sk-container-id-4 input.sk-hidden--visually {border: 0;clip: rect(1px 1px 1px 1px);clip: rect(1px, 1px, 1px, 1px);height: 1px;margin: -1px;overflow: hidden;padding: 0;position: absolute;width: 1px;}#sk-container-id-4 div.sk-estimator {font-family: monospace;background-color: #f0f8ff;border: 1px dotted black;border-radius: 0.25em;box-sizing: border-box;margin-bottom: 0.5em;}#sk-container-id-4 div.sk-estimator:hover {background-color: #d4ebff;}#sk-container-id-4 div.sk-parallel-item::after {content: \"\";width: 100%;border-bottom: 1px solid gray;flex-grow: 1;}#sk-container-id-4 div.sk-label:hover label.sk-toggleable__label {background-color: #d4ebff;}#sk-container-id-4 div.sk-serial::before {content: \"\";position: absolute;border-left: 1px solid gray;box-sizing: border-box;top: 0;bottom: 0;left: 50%;z-index: 0;}#sk-container-id-4 div.sk-serial {display: flex;flex-direction: column;align-items: center;background-color: white;padding-right: 0.2em;padding-left: 0.2em;position: relative;}#sk-container-id-4 div.sk-item {position: relative;z-index: 1;}#sk-container-id-4 div.sk-parallel {display: flex;align-items: stretch;justify-content: center;background-color: white;position: relative;}#sk-container-id-4 div.sk-item::before, #sk-container-id-4 div.sk-parallel-item::before {content: \"\";position: absolute;border-left: 1px solid gray;box-sizing: border-box;top: 0;bottom: 0;left: 50%;z-index: -1;}#sk-container-id-4 div.sk-parallel-item {display: flex;flex-direction: column;z-index: 1;position: relative;background-color: white;}#sk-container-id-4 div.sk-parallel-item:first-child::after {align-self: flex-end;width: 50%;}#sk-container-id-4 div.sk-parallel-item:last-child::after {align-self: flex-start;width: 50%;}#sk-container-id-4 div.sk-parallel-item:only-child::after {width: 0;}#sk-container-id-4 div.sk-dashed-wrapped {border: 1px dashed gray;margin: 0 0.4em 0.5em 0.4em;box-sizing: border-box;padding-bottom: 0.4em;background-color: white;}#sk-container-id-4 div.sk-label label {font-family: monospace;font-weight: bold;display: inline-block;line-height: 1.2em;}#sk-container-id-4 div.sk-label-container {text-align: center;}#sk-container-id-4 div.sk-container {/* jupyter's `normalize.less` sets `[hidden] { display: none; }` but bootstrap.min.css set `[hidden] { display: none !important; }` so we also need the `!important` here to be able to override the default hidden behavior on the sphinx rendered scikit-learn.org. See: https://github.com/scikit-learn/scikit-learn/issues/21755 */display: inline-block !important;position: relative;}#sk-container-id-4 div.sk-text-repr-fallback {display: none;}</style><div id=\"sk-container-id-4\" class=\"sk-top-container\"><div class=\"sk-text-repr-fallback\"><pre>ElasticNet()</pre><b>In a Jupyter environment, please rerun this cell to show the HTML representation or trust the notebook. <br />On GitHub, the HTML representation is unable to render, please try loading this page with nbviewer.org.</b></div><div class=\"sk-container\" hidden><div class=\"sk-item\"><div class=\"sk-estimator sk-toggleable\"><input class=\"sk-toggleable__control sk-hidden--visually\" id=\"sk-estimator-id-4\" type=\"checkbox\" checked><label for=\"sk-estimator-id-4\" class=\"sk-toggleable__label sk-toggleable__label-arrow\">ElasticNet</label><div class=\"sk-toggleable__content\"><pre>ElasticNet()</pre></div></div></div></div></div>"
      ],
      "text/plain": [
       "ElasticNet()"
      ]
     },
     "execution_count": 37,
     "metadata": {},
     "output_type": "execute_result"
    }
   ],
   "source": [
    "from sklearn.linear_model import ElasticNet\n",
    "elastic = ElasticNet()\n",
    "elastic.fit(X_train,y_train)"
   ]
  },
  {
   "cell_type": "code",
   "execution_count": 38,
   "id": "97e14167",
   "metadata": {},
   "outputs": [],
   "source": [
    "elastic_predict = elastic.predict(X_test)"
   ]
  },
  {
   "cell_type": "code",
   "execution_count": 39,
   "id": "ce4aeebc",
   "metadata": {},
   "outputs": [
    {
     "data": {
      "text/plain": [
       "array([27.47009625, 38.58193806, 30.61662831, 23.94153094, 47.78206271,\n",
       "       36.32482325, 25.6498558 , 52.45686491, 35.24848261, 33.53189303,\n",
       "       53.92104482, 61.12371146, 24.05308125, 49.68867479, 31.82072171,\n",
       "       59.9490584 , 26.68769464, 21.44234417, 30.53600976, 71.48604016,\n",
       "       17.92496529, 23.5374472 , 40.78694754, 24.35134805, 46.51268747,\n",
       "       23.84452052, 10.28095695, 27.22720414, 28.68291086, 58.92181784,\n",
       "       23.1186498 , 23.50032575, 38.41822472, 22.85017614, 44.73508209,\n",
       "       47.69561137, 16.54120342, 20.33096678, 24.30925807, 37.0327637 ,\n",
       "       33.2513817 , 49.24056467, 25.81176458, 22.7697423 , 31.39782057,\n",
       "       48.31854151, 24.63125508, 33.44275615, 35.71465595, 34.53881204,\n",
       "       17.52562421, 25.0702686 , 59.85262289, 40.62324068, 55.44996086,\n",
       "       37.14644976, 25.79589211, 39.18489645, 33.64651053, 18.00752511,\n",
       "       71.93555486, 50.52355702, 32.23885131, 32.64012667, 23.14088419,\n",
       "       47.95423879, 28.13165307, 13.57961499, 30.12438339, 23.96247874,\n",
       "       61.26878875, 28.47282739, 43.09145138, 64.47599148, 47.22848082,\n",
       "       58.44486212, 49.30246722, 19.62383017, 44.49118908, 37.98331277,\n",
       "       30.69394995, 42.92004879, 35.17621995, 52.68694679, 58.9581106 ,\n",
       "       40.61922716, 35.78828741, 26.88605701, 32.92114994, 20.19488425,\n",
       "       25.82220024, 37.5983811 , 20.0133585 , 51.43331053, 13.24254539,\n",
       "       42.75568096, 25.97087511, 40.28595258, 33.47579305, 28.55808256,\n",
       "       29.26886379, 30.6661696 , 31.4525256 , 38.95093192, 40.52014713,\n",
       "       56.97748765, 39.10526646, 52.40988865, 20.69481492, 39.07881423,\n",
       "       16.91104534, 27.61409033, 34.42367274, 37.28527382, 31.03312779,\n",
       "       30.51772731, 62.55017598, 29.37379129, 28.79500964, 59.19150182,\n",
       "       27.21903071, 44.56198798, 27.62978828, 27.56700517, 40.19400701,\n",
       "       21.99791383, 14.3709591 , 42.28724486, 11.70111398, 18.82457056,\n",
       "       27.15320535, 35.08306019, 60.55650328, 19.48579034, 25.60002047,\n",
       "       35.3970258 , 47.56196859, 27.93040889, 14.78565785, 48.1310323 ,\n",
       "       54.70673101, 46.80767221, 22.8725044 , 39.66073286, 25.4322422 ,\n",
       "       48.30152773, 36.32549526, 41.45478743, 30.21281446, 61.26878875,\n",
       "       33.62910338, 37.76679258, 50.44447223, 54.83690437, 20.25787975,\n",
       "       43.53801395, 38.18469394, 32.01334274, 61.06124886, 31.21970664,\n",
       "       19.16242009, 47.77426853, 45.57918567, 36.69716216, 32.57411264,\n",
       "       42.90056968, 27.472692  , 53.81038113, 32.58138251, 25.610422  ,\n",
       "       35.32314881, 37.58771843, 53.30243185, 22.89215685, 53.33652698,\n",
       "       16.66662772, 36.02784499, 29.1485138 , 17.93689275, 22.19188029,\n",
       "       28.63340427, 53.40606067, 34.22245385, 22.83459441, 30.33353734,\n",
       "       22.15554739, 39.39914131, 16.39505838, 30.5022603 , 26.46546645,\n",
       "       21.31230485, 20.05829369, 33.75659563, 30.71554129, 49.52660786,\n",
       "       56.89741561, 54.57998404, 29.13227754, 27.79612057, 58.02503593,\n",
       "       70.85004461, 63.38297569, 19.80815387, 25.56455219, 31.27804915,\n",
       "       54.52505433])"
      ]
     },
     "execution_count": 39,
     "metadata": {},
     "output_type": "execute_result"
    }
   ],
   "source": [
    "elastic_predict"
   ]
  },
  {
   "cell_type": "code",
   "execution_count": 40,
   "id": "046f1a03",
   "metadata": {},
   "outputs": [
    {
     "name": "stdout",
     "output_type": "stream",
     "text": [
      "Accuracy Score for Elastic Net Regression:  57.217907724088946\n"
     ]
    }
   ],
   "source": [
    "elastic_score = r2_score(y_test,elastic_predict)\n",
    "print(\"Accuracy Score for Elastic Net Regression: \",elastic_score*100)"
   ]
  },
  {
   "cell_type": "code",
   "execution_count": null,
   "id": "dbe7750a",
   "metadata": {},
   "outputs": [],
   "source": []
  }
 ],
 "metadata": {
  "kernelspec": {
   "display_name": "Python 3 (ipykernel)",
   "language": "python",
   "name": "python3"
  },
  "language_info": {
   "codemirror_mode": {
    "name": "ipython",
    "version": 3
   },
   "file_extension": ".py",
   "mimetype": "text/x-python",
   "name": "python",
   "nbconvert_exporter": "python",
   "pygments_lexer": "ipython3",
   "version": "3.11.3"
  }
 },
 "nbformat": 4,
 "nbformat_minor": 5
}
